{
 "cells": [
  {
   "cell_type": "code",
   "execution_count": 2,
   "metadata": {},
   "outputs": [],
   "source": [
    "from kan import *\n",
    "import torch\n",
    "import matplotlib.pyplot as plt\n",
    "from torch import autograd\n",
    "from tqdm import tqdm"
   ]
  },
  {
   "cell_type": "code",
   "execution_count": 3,
   "metadata": {},
   "outputs": [
    {
     "name": "stdout",
     "output_type": "stream",
     "text": [
      "cpu\n"
     ]
    }
   ],
   "source": [
    "device = torch.device('cuda' if torch.cuda.is_available() else 'cpu')\n",
    "print(device)"
   ]
  },
  {
   "cell_type": "code",
   "execution_count": null,
   "metadata": {},
   "outputs": [],
   "source": [
    "\"\"\"\n",
    "TO DO:\n",
    "    - loss function or update rule that ensures each node has an input\n",
    "    - how loss will be calculated: VMC/local energy/full SE\n",
    "    - relaxed configuration input data: pySCF\n",
    "    - parameters to optimize in radial and angular functions\n",
    "    - which electrons to use\n",
    "    - encode pauli exclusion: determinant should resolve\n",
    "    - what is updated input for ab initio cycle\n",
    "    - function or orbital basis set\n",
    "    - experiements: likely psiformer comparison and reference data\n",
    "\n",
    "GENERAL IDEA:\n",
    "    1) atomic positions are given by pySCF\n",
    "    2) number of electrons are given by atomic number/valence info\n",
    "    3) network nodes are parameterized by electron number n\n",
    "    4) each node has n functions/connections for one to each electron in the next layer, including a one to itself\n",
    "    5) radial and angular functions are on the same layer with multiplication at the \n",
    "\"\"\""
   ]
  }
 ],
 "metadata": {
  "kernelspec": {
   "display_name": "pykan",
   "language": "python",
   "name": "pykan"
  },
  "language_info": {
   "codemirror_mode": {
    "name": "ipython",
    "version": 3
   },
   "file_extension": ".py",
   "mimetype": "text/x-python",
   "name": "python",
   "nbconvert_exporter": "python",
   "pygments_lexer": "ipython3",
   "version": "3.12.0"
  }
 },
 "nbformat": 4,
 "nbformat_minor": 2
}
