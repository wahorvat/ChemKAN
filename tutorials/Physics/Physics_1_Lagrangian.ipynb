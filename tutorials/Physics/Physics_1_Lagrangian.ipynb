{
 "cells": [
  {
   "cell_type": "markdown",
   "id": "134e7f9d",
   "metadata": {},
   "source": [
    "# Physics 1: Lagrangian neural network"
   ]
  },
  {
   "cell_type": "code",
   "execution_count": 1,
   "id": "66865edb",
   "metadata": {},
   "outputs": [],
   "source": [
    "from kan import *\n",
    "from kan.utils import batch_jacobian, batch_hessian\n",
    "\n",
    "torch.use_deterministic_algorithms(True)\n",
    "torch.set_default_dtype(torch.float64)\n",
    "\n",
    "seed = 0\n",
    "torch.manual_seed(seed)\n",
    "\n",
    "#example = 'harmonic_oscillator'\n",
    "#example = 'single_pendulum'\n",
    "example = 'relativistic_mass'\n",
    "\n",
    "# three examples: harmonic oscillator, single pendulum, double pendulum\n",
    "\n",
    "# dimension of q\n",
    "# Lagrangian: (q, qd) -> (qdd)\n",
    "\n",
    "if example == 'harmonic_oscillator':\n",
    "    n_sample = 1000\n",
    "    # harmonic oscillator\n",
    "    d = 1\n",
    "    q = torch.rand(size=(n_sample,1)) * 4 - 2\n",
    "    qd = torch.rand(size=(n_sample,1)) * 4 - 2\n",
    "    qdd = - q\n",
    "    x = torch.cat([q, qd], dim=1)\n",
    "    \n",
    "if example == 'single_pendulum':\n",
    "    n_sample = 1000\n",
    "    # harmonic oscillator\n",
    "    d = 1\n",
    "    q = torch.rand(size=(n_sample,1)) * 4 - 2\n",
    "    qd = torch.rand(size=(n_sample,1)) * 4 - 2\n",
    "    qdd = - torch.sin(q)\n",
    "    x = torch.cat([q, qd], dim=1)\n",
    "    \n",
    "if example == 'relativistic_mass':\n",
    "    n_sample = 10000\n",
    "    # harmonic oscillator\n",
    "    d = 1\n",
    "    q = torch.rand(size=(n_sample,1)) * 4 - 2\n",
    "    #qd = torch.rand(size=(n_sample,1)) * 1.998 - 0.999\n",
    "    #qd = 0.95 + torch.rand(size=(n_sample,1)) * 0.05\n",
    "    qd = torch.rand(size=(n_sample,1)) * 2 - 1\n",
    "    qdd = (1 - qd**2)**(3/2)\n",
    "    x = torch.cat([q, qd], dim=1)\n",
    "\n"
   ]
  },
  {
   "cell_type": "code",
   "execution_count": 2,
   "id": "ec549451",
   "metadata": {},
   "outputs": [],
   "source": [
    "from kan.compiler import kanpiler\n",
    "from sympy import *\n",
    "\n",
    "input_variables = symbol_x, symbol_vx = symbols('x v_x')\n",
    "expr = symbol_vx ** 2\n",
    "model = kanpiler(input_variables, expr, grid=20)"
   ]
  },
  {
   "cell_type": "code",
   "execution_count": 3,
   "id": "f9930812",
   "metadata": {},
   "outputs": [
    {
     "data": {
      "image/png": "[encoded data removed]",
      "text/plain": [
       "<Figure size 500x200 with 4 Axes>"
      ]
     },
     "metadata": {},
     "output_type": "display_data"
    }
   ],
   "source": [
    "model.get_act(x)\n",
    "model.plot()"
   ]
  },
  {
   "cell_type": "code",
   "execution_count": 4,
   "id": "74a1fb02",
   "metadata": {},
   "outputs": [
    {
     "data": {
      "image/png": "[encoded data removed]",
      "text/plain": [
       "<Figure size 500x200 with 4 Axes>"
      ]
     },
     "metadata": {},
     "output_type": "display_data"
    }
   ],
   "source": [
    "model.perturb(mode='all', mag=0.1)\n",
    "model.get_act(x)\n",
    "model.plot()"
   ]
  },
  {
   "cell_type": "code",
   "execution_count": 5,
   "id": "fd0d2987",
   "metadata": {
    "scrolled": true
   },
   "outputs": [
    {
     "name": "stderr",
     "output_type": "stream",
     "text": [
      "| loss: 3.93e-03 |: 100%|███████████████████████████████████████████| 20/20 [01:57<00:00,  5.86s/it]\n"
     ]
    }
   ],
   "source": [
    "from kan import *\n",
    "from kan.utils import batch_jacobian, create_dataset_from_data\n",
    "import numpy as np\n",
    "\n",
    "torch.use_deterministic_algorithms(True)\n",
    "\n",
    "def closure():\n",
    "    \n",
    "    global loss\n",
    "    optimizer.zero_grad()\n",
    "    \n",
    "    jacobian = batch_jacobian(model, x, create_graph=True)\n",
    "    hessian = batch_hessian(model, x, create_graph=True)\n",
    "    Lqdqd = hessian[:,d:,d:]\n",
    "    Lq = jacobian[:,:d]\n",
    "    Lqqd = hessian[:,d:,:d]\n",
    "\n",
    "    Lqqd_qd_prod = torch.einsum('ijk,ik->ij', Lqqd, qd)\n",
    "\n",
    "    qdd_pred = torch.einsum('ijk,ik->ij', torch.linalg.inv(Lqdqd), Lq - Lqqd_qd_prod)\n",
    "    loss = torch.mean((qdd - qdd_pred)**2)\n",
    "\n",
    "    loss.backward()\n",
    "    return loss\n",
    "\n",
    "steps = 20\n",
    "log = 1\n",
    "optimizer = LBFGS(model.parameters(), lr=1, history_size=10, line_search_fn=\"strong_wolfe\", tolerance_grad=1e-32, tolerance_change=1e-32, tolerance_ys=1e-32)\n",
    "#optimizer = torch.optim.Adam(params, lr=1e-2)\n",
    "pbar = tqdm(range(steps), desc='description', ncols=100)\n",
    "\n",
    "\n",
    "for _ in pbar:\n",
    "    \n",
    "    # update grid\n",
    "    if _ < 5 and _ % 20 == 0:\n",
    "        model.update_grid(x)\n",
    "            \n",
    "    optimizer.step(closure)\n",
    "    \n",
    "    if _ % log == 0:\n",
    "        pbar.set_description(\"| loss: %.2e |\" % loss.cpu().detach().numpy())\n",
    "        \n",
    "        "
   ]
  },
  {
   "cell_type": "code",
   "execution_count": 8,
   "id": "782f818f",
   "metadata": {},
   "outputs": [
    {
     "data": {
      "image/png": "[encoded data removed]",
      "text/plain": [
       "<Figure size 500x200 with 4 Axes>"
      ]
     },
     "metadata": {},
     "output_type": "display_data"
    }
   ],
   "source": [
    "model.plot()"
   ]
  },
  {
   "cell_type": "code",
   "execution_count": 9,
   "id": "ad876b9d",
   "metadata": {},
   "outputs": [
    {
     "ename": "KeyboardInterrupt",
     "evalue": "",
     "output_type": "error",
     "traceback": [
      "\u001b[0;31m---------------------------------------------------------------------------\u001b[0m",
      "\u001b[0;31mKeyboardInterrupt\u001b[0m                         Traceback (most recent call last)",
      "Cell \u001b[0;32mIn[9], line 1\u001b[0m\n\u001b[0;32m----> 1\u001b[0m \u001b[43mmodel\u001b[49m\u001b[38;5;241;43m.\u001b[39;49m\u001b[43mauto_symbolic\u001b[49m\u001b[43m(\u001b[49m\u001b[43m)\u001b[49m\n",
      "File \u001b[0;32m~/Desktop/pykan/kan/MultKAN.py:2203\u001b[0m, in \u001b[0;36mMultKAN.auto_symbolic\u001b[0;34m(self, a_range, b_range, lib, verbose, weight_simple, r2_threshold)\u001b[0m\n\u001b[1;32m   2201\u001b[0m     \u001b[38;5;28mprint\u001b[39m(\u001b[38;5;124mf\u001b[39m\u001b[38;5;124m'\u001b[39m\u001b[38;5;124mfixing (\u001b[39m\u001b[38;5;132;01m{\u001b[39;00ml\u001b[38;5;132;01m}\u001b[39;00m\u001b[38;5;124m,\u001b[39m\u001b[38;5;132;01m{\u001b[39;00mi\u001b[38;5;132;01m}\u001b[39;00m\u001b[38;5;124m,\u001b[39m\u001b[38;5;132;01m{\u001b[39;00mj\u001b[38;5;132;01m}\u001b[39;00m\u001b[38;5;124m) with 0\u001b[39m\u001b[38;5;124m'\u001b[39m)\n\u001b[1;32m   2202\u001b[0m \u001b[38;5;28;01melse\u001b[39;00m:\n\u001b[0;32m-> 2203\u001b[0m     name, fun, r2, c \u001b[38;5;241m=\u001b[39m \u001b[38;5;28;43mself\u001b[39;49m\u001b[38;5;241;43m.\u001b[39;49m\u001b[43msuggest_symbolic\u001b[49m\u001b[43m(\u001b[49m\u001b[43ml\u001b[49m\u001b[43m,\u001b[49m\u001b[43m \u001b[49m\u001b[43mi\u001b[49m\u001b[43m,\u001b[49m\u001b[43m \u001b[49m\u001b[43mj\u001b[49m\u001b[43m,\u001b[49m\u001b[43m \u001b[49m\u001b[43ma_range\u001b[49m\u001b[38;5;241;43m=\u001b[39;49m\u001b[43ma_range\u001b[49m\u001b[43m,\u001b[49m\u001b[43m \u001b[49m\u001b[43mb_range\u001b[49m\u001b[38;5;241;43m=\u001b[39;49m\u001b[43mb_range\u001b[49m\u001b[43m,\u001b[49m\u001b[43m \u001b[49m\u001b[43mlib\u001b[49m\u001b[38;5;241;43m=\u001b[39;49m\u001b[43mlib\u001b[49m\u001b[43m,\u001b[49m\u001b[43m \u001b[49m\u001b[43mverbose\u001b[49m\u001b[38;5;241;43m=\u001b[39;49m\u001b[38;5;28;43;01mFalse\u001b[39;49;00m\u001b[43m,\u001b[49m\u001b[43m \u001b[49m\u001b[43mweight_simple\u001b[49m\u001b[38;5;241;43m=\u001b[39;49m\u001b[43mweight_simple\u001b[49m\u001b[43m)\u001b[49m\n\u001b[1;32m   2204\u001b[0m     \u001b[38;5;28;01mif\u001b[39;00m r2 \u001b[38;5;241m>\u001b[39m\u001b[38;5;241m=\u001b[39m r2_threshold:\n\u001b[1;32m   2205\u001b[0m         \u001b[38;5;28mself\u001b[39m\u001b[38;5;241m.\u001b[39mfix_symbolic(l, i, j, name, verbose\u001b[38;5;241m=\u001b[39mverbose \u001b[38;5;241m>\u001b[39m \u001b[38;5;241m1\u001b[39m, log_history\u001b[38;5;241m=\u001b[39m\u001b[38;5;28;01mFalse\u001b[39;00m)\n",
      "File \u001b[0;32m~/Desktop/pykan/kan/MultKAN.py:2118\u001b[0m, in \u001b[0;36mMultKAN.suggest_symbolic\u001b[0;34m(self, l, i, j, a_range, b_range, lib, topk, verbose, r2_loss_fun, c_loss_fun, weight_simple)\u001b[0m\n\u001b[1;32m   2116\u001b[0m \u001b[38;5;66;03m# getting r2 and complexities\u001b[39;00m\n\u001b[1;32m   2117\u001b[0m \u001b[38;5;28;01mfor\u001b[39;00m (name, content) \u001b[38;5;129;01min\u001b[39;00m symbolic_lib\u001b[38;5;241m.\u001b[39mitems():\n\u001b[0;32m-> 2118\u001b[0m     r2 \u001b[38;5;241m=\u001b[39m \u001b[38;5;28;43mself\u001b[39;49m\u001b[38;5;241;43m.\u001b[39;49m\u001b[43mfix_symbolic\u001b[49m\u001b[43m(\u001b[49m\u001b[43ml\u001b[49m\u001b[43m,\u001b[49m\u001b[43m \u001b[49m\u001b[43mi\u001b[49m\u001b[43m,\u001b[49m\u001b[43m \u001b[49m\u001b[43mj\u001b[49m\u001b[43m,\u001b[49m\u001b[43m \u001b[49m\u001b[43mname\u001b[49m\u001b[43m,\u001b[49m\u001b[43m \u001b[49m\u001b[43ma_range\u001b[49m\u001b[38;5;241;43m=\u001b[39;49m\u001b[43ma_range\u001b[49m\u001b[43m,\u001b[49m\u001b[43m \u001b[49m\u001b[43mb_range\u001b[49m\u001b[38;5;241;43m=\u001b[39;49m\u001b[43mb_range\u001b[49m\u001b[43m,\u001b[49m\u001b[43m \u001b[49m\u001b[43mverbose\u001b[49m\u001b[38;5;241;43m=\u001b[39;49m\u001b[38;5;28;43;01mFalse\u001b[39;49;00m\u001b[43m,\u001b[49m\u001b[43m \u001b[49m\u001b[43mlog_history\u001b[49m\u001b[38;5;241;43m=\u001b[39;49m\u001b[38;5;28;43;01mFalse\u001b[39;49;00m\u001b[43m)\u001b[49m\n\u001b[1;32m   2119\u001b[0m     \u001b[38;5;28;01mif\u001b[39;00m r2 \u001b[38;5;241m==\u001b[39m \u001b[38;5;241m-\u001b[39m\u001b[38;5;241m1e8\u001b[39m: \u001b[38;5;66;03m# zero function\u001b[39;00m\n\u001b[1;32m   2120\u001b[0m         r2s\u001b[38;5;241m.\u001b[39mappend(\u001b[38;5;241m-\u001b[39m\u001b[38;5;241m1e8\u001b[39m)\n",
      "File \u001b[0;32m~/Desktop/pykan/kan/MultKAN.py:936\u001b[0m, in \u001b[0;36mMultKAN.fix_symbolic\u001b[0;34m(self, l, i, j, fun_name, fit_params_bool, a_range, b_range, verbose, random, log_history)\u001b[0m\n\u001b[1;32m    934\u001b[0m y \u001b[38;5;241m=\u001b[39m \u001b[38;5;28mself\u001b[39m\u001b[38;5;241m.\u001b[39mspline_postacts[l][:, j, i]\n\u001b[1;32m    935\u001b[0m \u001b[38;5;66;03m#y = self.postacts[l][:, j, i]\u001b[39;00m\n\u001b[0;32m--> 936\u001b[0m r2 \u001b[38;5;241m=\u001b[39m \u001b[38;5;28;43mself\u001b[39;49m\u001b[38;5;241;43m.\u001b[39;49m\u001b[43msymbolic_fun\u001b[49m\u001b[43m[\u001b[49m\u001b[43ml\u001b[49m\u001b[43m]\u001b[49m\u001b[38;5;241;43m.\u001b[39;49m\u001b[43mfix_symbolic\u001b[49m\u001b[43m(\u001b[49m\u001b[43mi\u001b[49m\u001b[43m,\u001b[49m\u001b[43m \u001b[49m\u001b[43mj\u001b[49m\u001b[43m,\u001b[49m\u001b[43m \u001b[49m\u001b[43mfun_name\u001b[49m\u001b[43m,\u001b[49m\u001b[43m \u001b[49m\u001b[43mx\u001b[49m\u001b[43m,\u001b[49m\u001b[43m \u001b[49m\u001b[43my\u001b[49m\u001b[43m,\u001b[49m\u001b[43m \u001b[49m\u001b[43ma_range\u001b[49m\u001b[38;5;241;43m=\u001b[39;49m\u001b[43ma_range\u001b[49m\u001b[43m,\u001b[49m\u001b[43m \u001b[49m\u001b[43mb_range\u001b[49m\u001b[38;5;241;43m=\u001b[39;49m\u001b[43mb_range\u001b[49m\u001b[43m,\u001b[49m\u001b[43m \u001b[49m\u001b[43mverbose\u001b[49m\u001b[38;5;241;43m=\u001b[39;49m\u001b[43mverbose\u001b[49m\u001b[43m)\u001b[49m\n\u001b[1;32m    937\u001b[0m \u001b[38;5;28;01mif\u001b[39;00m mask[i,j] \u001b[38;5;241m==\u001b[39m \u001b[38;5;241m0\u001b[39m:\n\u001b[1;32m    938\u001b[0m     r2 \u001b[38;5;241m=\u001b[39m \u001b[38;5;241m-\u001b[39m \u001b[38;5;241m1e8\u001b[39m\n",
      "File \u001b[0;32m~/Desktop/pykan/kan/Symbolic_KANLayer.py:225\u001b[0m, in \u001b[0;36mSymbolic_KANLayer.fix_symbolic\u001b[0;34m(self, i, j, fun_name, x, y, random, a_range, b_range, verbose)\u001b[0m\n\u001b[1;32m    222\u001b[0m     \u001b[38;5;28;01mreturn\u001b[39;00m \u001b[38;5;28;01mNone\u001b[39;00m\n\u001b[1;32m    223\u001b[0m \u001b[38;5;28;01melse\u001b[39;00m:\n\u001b[1;32m    224\u001b[0m     \u001b[38;5;66;03m#initialize from x & y and fun\u001b[39;00m\n\u001b[0;32m--> 225\u001b[0m     params, r2 \u001b[38;5;241m=\u001b[39m \u001b[43mfit_params\u001b[49m\u001b[43m(\u001b[49m\u001b[43mx\u001b[49m\u001b[43m,\u001b[49m\u001b[43my\u001b[49m\u001b[43m,\u001b[49m\u001b[43mfun\u001b[49m\u001b[43m,\u001b[49m\u001b[43m \u001b[49m\u001b[43ma_range\u001b[49m\u001b[38;5;241;43m=\u001b[39;49m\u001b[43ma_range\u001b[49m\u001b[43m,\u001b[49m\u001b[43m \u001b[49m\u001b[43mb_range\u001b[49m\u001b[38;5;241;43m=\u001b[39;49m\u001b[43mb_range\u001b[49m\u001b[43m,\u001b[49m\u001b[43m \u001b[49m\u001b[43mverbose\u001b[49m\u001b[38;5;241;43m=\u001b[39;49m\u001b[43mverbose\u001b[49m\u001b[43m,\u001b[49m\u001b[43m \u001b[49m\u001b[43mdevice\u001b[49m\u001b[38;5;241;43m=\u001b[39;49m\u001b[38;5;28;43mself\u001b[39;49m\u001b[38;5;241;43m.\u001b[39;49m\u001b[43mdevice\u001b[49m\u001b[43m)\u001b[49m\n\u001b[1;32m    226\u001b[0m     \u001b[38;5;28mself\u001b[39m\u001b[38;5;241m.\u001b[39mfuns[j][i] \u001b[38;5;241m=\u001b[39m fun\n\u001b[1;32m    227\u001b[0m     \u001b[38;5;28mself\u001b[39m\u001b[38;5;241m.\u001b[39mfuns_avoid_singularity[j][i] \u001b[38;5;241m=\u001b[39m fun_avoid_singularity\n",
      "File \u001b[0;32m~/Desktop/pykan/kan/utils.py:225\u001b[0m, in \u001b[0;36mfit_params\u001b[0;34m(x, y, fun, a_range, b_range, grid_number, iteration, verbose, device)\u001b[0m\n\u001b[1;32m    223\u001b[0m x_mean \u001b[38;5;241m=\u001b[39m torch\u001b[38;5;241m.\u001b[39mmean(post_fun, dim\u001b[38;5;241m=\u001b[39m[\u001b[38;5;241m0\u001b[39m], keepdim\u001b[38;5;241m=\u001b[39m\u001b[38;5;28;01mTrue\u001b[39;00m)\n\u001b[1;32m    224\u001b[0m y_mean \u001b[38;5;241m=\u001b[39m torch\u001b[38;5;241m.\u001b[39mmean(y, dim\u001b[38;5;241m=\u001b[39m[\u001b[38;5;241m0\u001b[39m], keepdim\u001b[38;5;241m=\u001b[39m\u001b[38;5;28;01mTrue\u001b[39;00m)\n\u001b[0;32m--> 225\u001b[0m numerator \u001b[38;5;241m=\u001b[39m \u001b[43mtorch\u001b[49m\u001b[38;5;241;43m.\u001b[39;49m\u001b[43msum\u001b[49m\u001b[43m(\u001b[49m\u001b[43m(\u001b[49m\u001b[43mpost_fun\u001b[49m\u001b[43m \u001b[49m\u001b[38;5;241;43m-\u001b[39;49m\u001b[43m \u001b[49m\u001b[43mx_mean\u001b[49m\u001b[43m)\u001b[49m\u001b[38;5;241;43m*\u001b[39;49m\u001b[43m(\u001b[49m\u001b[43my\u001b[49m\u001b[38;5;241;43m-\u001b[39;49m\u001b[43my_mean\u001b[49m\u001b[43m)\u001b[49m\u001b[43m[\u001b[49m\u001b[43m:\u001b[49m\u001b[43m,\u001b[49m\u001b[38;5;28;43;01mNone\u001b[39;49;00m\u001b[43m,\u001b[49m\u001b[38;5;28;43;01mNone\u001b[39;49;00m\u001b[43m]\u001b[49m\u001b[43m,\u001b[49m\u001b[43m \u001b[49m\u001b[43mdim\u001b[49m\u001b[38;5;241;43m=\u001b[39;49m\u001b[38;5;241;43m0\u001b[39;49m\u001b[43m)\u001b[49m\u001b[38;5;241m*\u001b[39m\u001b[38;5;241m*\u001b[39m\u001b[38;5;241m2\u001b[39m\n\u001b[1;32m    226\u001b[0m denominator \u001b[38;5;241m=\u001b[39m torch\u001b[38;5;241m.\u001b[39msum((post_fun \u001b[38;5;241m-\u001b[39m x_mean)\u001b[38;5;241m*\u001b[39m\u001b[38;5;241m*\u001b[39m\u001b[38;5;241m2\u001b[39m, dim\u001b[38;5;241m=\u001b[39m\u001b[38;5;241m0\u001b[39m)\u001b[38;5;241m*\u001b[39mtorch\u001b[38;5;241m.\u001b[39msum((y \u001b[38;5;241m-\u001b[39m y_mean)[:,\u001b[38;5;28;01mNone\u001b[39;00m,\u001b[38;5;28;01mNone\u001b[39;00m]\u001b[38;5;241m*\u001b[39m\u001b[38;5;241m*\u001b[39m\u001b[38;5;241m2\u001b[39m, dim\u001b[38;5;241m=\u001b[39m\u001b[38;5;241m0\u001b[39m)\n\u001b[1;32m    227\u001b[0m r2 \u001b[38;5;241m=\u001b[39m numerator\u001b[38;5;241m/\u001b[39m(denominator\u001b[38;5;241m+\u001b[39m\u001b[38;5;241m1e-4\u001b[39m)\n",
      "\u001b[0;31mKeyboardInterrupt\u001b[0m: "
     ]
    }
   ],
   "source": [
    "model.auto_symbolic()"
   ]
  },
  {
   "cell_type": "code",
   "execution_count": 80,
   "id": "428571e6",
   "metadata": {},
   "outputs": [
    {
     "name": "stdout",
     "output_type": "stream",
     "text": [
      "saving model version 0.5\n",
      "  function  fitting r2    r2 loss  complexity  complexity loss  total loss\n",
      "0        x    1.000000 -16.565706           1                1   -2.513141\n",
      "1      cos    1.000000 -16.599499           2                2   -1.719900\n",
      "2      sin    1.000000 -16.599499           2                2   -1.719900\n",
      "3      exp    0.999997 -16.268112           2                2   -1.653622\n",
      "4    x^0.5    0.999977 -14.896568           2                2   -1.379314\n"
     ]
    },
    {
     "data": {
      "text/plain": [
       "('x',\n",
       " (<function kan.utils.<lambda>(x)>,\n",
       "  <function kan.utils.<lambda>(x)>,\n",
       "  1,\n",
       "  <function kan.utils.<lambda>(x, y_th)>),\n",
       " 0.9999996907837526,\n",
       " 1)"
      ]
     },
     "execution_count": 80,
     "metadata": {},
     "output_type": "execute_result"
    }
   ],
   "source": [
    "model.unfix_symbolic(0,0,0)\n",
    "model.suggest_symbolic(0,0,0)"
   ]
  },
  {
   "cell_type": "code",
   "execution_count": 47,
   "id": "0dea7189",
   "metadata": {},
   "outputs": [
    {
     "name": "stdout",
     "output_type": "stream",
     "text": [
      "saving model version 0.4\n",
      "  function  fitting r2   r2 loss  complexity  complexity loss  total loss\n",
      "0        0    0.000000  0.000014           0                0    0.000003\n",
      "1      cos    0.969503 -5.034727           2                2    0.593055\n",
      "2      x^2    0.969092 -5.015413           2                2    0.596917\n",
      "3      sin    0.965249 -4.846400           2                2    0.630720\n",
      "4        x    0.000392 -0.000551           1                1    0.799890\n"
     ]
    },
    {
     "data": {
      "text/plain": [
       "('0',\n",
       " (<function kan.utils.<lambda>(x)>,\n",
       "  <function kan.utils.<lambda>(x)>,\n",
       "  0,\n",
       "  <function kan.utils.<lambda>(x, y_th)>),\n",
       " 0.0,\n",
       " 0)"
      ]
     },
     "execution_count": 47,
     "metadata": {},
     "output_type": "execute_result"
    }
   ],
   "source": [
    "model.unfix_symbolic(0,1,0)\n",
    "model.suggest_symbolic(0,1,0)"
   ]
  },
  {
   "cell_type": "code",
   "execution_count": 101,
   "id": "ef60542b",
   "metadata": {},
   "outputs": [
    {
     "data": {
      "image/png": "[encoded data removed]",
      "text/plain": [
       "<Figure size 300x300 with 1 Axes>"
      ]
     },
     "metadata": {},
     "output_type": "display_data"
    }
   ],
   "source": [
    "x, y = model.get_fun(0,1,0)"
   ]
  },
  {
   "cell_type": "code",
   "execution_count": 102,
   "id": "8f77c061",
   "metadata": {},
   "outputs": [
    {
     "name": "stdout",
     "output_type": "stream",
     "text": [
      "checkpoint directory created: ./model\n",
      "saving model version 0.0\n",
      "saving model version 0.1\n"
     ]
    }
   ],
   "source": [
    "from kan.utils import create_dataset_from_data\n",
    "\n",
    "dataset2 = create_dataset_from_data(x[:,None], y[:,None])\n",
    "model2 = KAN(width=[1,1,1])\n",
    "model2.fix_symbolic(0,0,0,'x^2',fit_params_bool=False)"
   ]
  },
  {
   "cell_type": "code",
   "execution_count": 103,
   "id": "1c62302d",
   "metadata": {},
   "outputs": [
    {
     "data": {
      "image/png": "[encoded data removed]",
      "text/plain": [
       "<Figure size 500x400 with 5 Axes>"
      ]
     },
     "metadata": {},
     "output_type": "display_data"
    }
   ],
   "source": [
    "model2.get_act(dataset2)\n",
    "model2.plot()"
   ]
  },
  {
   "cell_type": "code",
   "execution_count": 104,
   "id": "096134b0",
   "metadata": {},
   "outputs": [
    {
     "name": "stderr",
     "output_type": "stream",
     "text": [
      "| train_loss: 3.77e-04 | test_loss: 3.76e-04 | reg: 3.35e+00 | : 100%|█| 50/50 [00:46<00:00,  1.07it"
     ]
    },
    {
     "name": "stdout",
     "output_type": "stream",
     "text": [
      "saving model version 0.2\n"
     ]
    },
    {
     "name": "stderr",
     "output_type": "stream",
     "text": [
      "\n"
     ]
    }
   ],
   "source": [
    "model2.fit(dataset2, steps=50);"
   ]
  },
  {
   "cell_type": "code",
   "execution_count": 105,
   "id": "035e00f2",
   "metadata": {},
   "outputs": [
    {
     "name": "stderr",
     "output_type": "stream",
     "text": [
      "| train_loss: 3.73e-04 | test_loss: 3.72e-04 | reg: 3.35e+00 | : 100%|█| 50/50 [00:13<00:00,  3.81it"
     ]
    },
    {
     "name": "stdout",
     "output_type": "stream",
     "text": [
      "saving model version 0.3\n"
     ]
    },
    {
     "name": "stderr",
     "output_type": "stream",
     "text": [
      "\n"
     ]
    }
   ],
   "source": [
    "model2.fit(dataset2, steps=50, update_grid=False);"
   ]
  },
  {
   "cell_type": "code",
   "execution_count": 106,
   "id": "b65775e8",
   "metadata": {},
   "outputs": [
    {
     "data": {
      "image/png": "[encoded data removed]",
      "text/plain": [
       "<Figure size 500x400 with 5 Axes>"
      ]
     },
     "metadata": {},
     "output_type": "display_data"
    }
   ],
   "source": [
    "model2.plot()"
   ]
  },
  {
   "cell_type": "code",
   "execution_count": 107,
   "id": "6cd26af5",
   "metadata": {},
   "outputs": [
    {
     "name": "stdout",
     "output_type": "stream",
     "text": [
      "    function  fitting r2    r2 loss  complexity  complexity loss  total loss\n",
      "0      x^0.5    0.999957 -14.193489           2                2   -1.238698\n",
      "1       sqrt    0.999957 -14.193489           2                2   -1.238698\n",
      "2        log    0.999722 -11.763921           2                2   -0.752784\n",
      "3    1/x^0.5    0.999485 -10.894391           2                2   -0.578878\n",
      "4  1/sqrt(x)    0.999485 -10.894391           2                2   -0.578878\n"
     ]
    },
    {
     "data": {
      "text/plain": [
       "('x^0.5',\n",
       " (<function kan.utils.<lambda>(x)>,\n",
       "  <function kan.utils.<lambda>(x)>,\n",
       "  2,\n",
       "  <function kan.utils.<lambda>(x, y_th)>),\n",
       " 0.9999566254728288,\n",
       " 2)"
      ]
     },
     "execution_count": 107,
     "metadata": {},
     "output_type": "execute_result"
    }
   ],
   "source": [
    "model2.suggest_symbolic(1,0,0)"
   ]
  },
  {
   "cell_type": "code",
   "execution_count": 72,
   "id": "daabd91a",
   "metadata": {},
   "outputs": [
    {
     "name": "stdout",
     "output_type": "stream",
     "text": [
      "Best value at boundary.\n",
      "r2 is 0.9989821969546337\n"
     ]
    },
    {
     "data": {
      "text/plain": [
       "(tensor([-9.8000,  9.8868, -0.3482,  1.2049]), tensor(0.9990))"
      ]
     },
     "execution_count": 72,
     "metadata": {},
     "output_type": "execute_result"
    }
   ],
   "source": [
    "from kan.utils import fit_params\n",
    "fit_params(x**2, y, lambda x: x**(1/2))"
   ]
  },
  {
   "cell_type": "code",
   "execution_count": 74,
   "id": "8dc20f20",
   "metadata": {},
   "outputs": [
    {
     "name": "stdout",
     "output_type": "stream",
     "text": [
      "skipping (0,0,0) since already symbolic\n",
      "fixing (1,0,0) with x^0.5, r2=0.9999494098870415, c=2\n",
      "saving model version 0.4\n"
     ]
    }
   ],
   "source": [
    "model2.auto_symbolic()"
   ]
  },
  {
   "cell_type": "code",
   "execution_count": 79,
   "id": "f27f3daa",
   "metadata": {},
   "outputs": [
    {
     "data": {
      "text/latex": [
       "$\\displaystyle 1.19 - 1.08 \\sqrt{1 - 1.0 x_{1}^{2}}$"
      ],
      "text/plain": [
       "1.19 - 1.08*sqrt(1 - 1.0*x_1**2)"
      ]
     },
     "execution_count": 79,
     "metadata": {},
     "output_type": "execute_result"
    }
   ],
   "source": [
    "from kan.utils import ex_round\n",
    "ex_round(model2.symbolic_formula()[0][0], 2)"
   ]
  },
  {
   "cell_type": "code",
   "execution_count": null,
   "id": "a61540c1",
   "metadata": {},
   "outputs": [],
   "source": []
  }
 ],
 "metadata": {
  "kernelspec": {
   "display_name": "pykan",
   "language": "python",
   "name": "pykan"
  },
  "language_info": {
   "codemirror_mode": {
    "name": "ipython",
    "version": 3
   },
   "file_extension": ".py",
   "mimetype": "text/x-python",
   "name": "python",
   "nbconvert_exporter": "python",
   "pygments_lexer": "ipython3",
   "version": "3.12.0"
  }
 },
 "nbformat": 4,
 "nbformat_minor": 5
}
